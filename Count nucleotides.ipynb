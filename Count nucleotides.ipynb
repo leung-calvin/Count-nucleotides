{
 "cells": [
  {
   "cell_type": "code",
   "execution_count": 2,
   "metadata": {},
   "outputs": [],
   "source": [
    "#example DNA sequence\n",
    "dna = \"AGCTTTTCATTCTGACTGCAACGGGCAATATGTCTCTGTGTGGATTAAAAAAAGAGTGTCTGATAGCAGC\""
   ]
  },
  {
   "cell_type": "code",
   "execution_count": 10,
   "metadata": {},
   "outputs": [
    {
     "name": "stdout",
     "output_type": "stream",
     "text": [
      "Count of A: 20\n",
      "Count of T: 21\n",
      "Count of C: 12\n",
      "Count of G: 17\n"
     ]
    }
   ],
   "source": [
    "print(\"Count of A:\", dna.count(\"A\"))\n",
    "print(\"Count of T:\", dna.count(\"T\"))\n",
    "print(\"Count of C:\", dna.count(\"C\"))\n",
    "print(\"Count of G:\", dna.count(\"G\"))"
   ]
  }
 ],
 "metadata": {
  "kernelspec": {
   "display_name": "Python 3",
   "language": "python",
   "name": "python3"
  },
  "language_info": {
   "codemirror_mode": {
    "name": "ipython",
    "version": 3
   },
   "file_extension": ".py",
   "mimetype": "text/x-python",
   "name": "python",
   "nbconvert_exporter": "python",
   "pygments_lexer": "ipython3",
   "version": "3.7.7"
  }
 },
 "nbformat": 4,
 "nbformat_minor": 4
}
